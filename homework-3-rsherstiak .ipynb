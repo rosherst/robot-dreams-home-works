{
 "cells": [
  {
   "cell_type": "markdown",
   "id": "4c3b0b0c-7d99-4d08-b2c4-773a4b599b16",
   "metadata": {
    "execution": {
     "iopub.execute_input": "2025-08-14T02:00:39.630709Z",
     "iopub.status.busy": "2025-08-14T02:00:39.630360Z",
     "iopub.status.idle": "2025-08-14T02:00:39.807706Z",
     "shell.execute_reply": "2025-08-14T02:00:39.807250Z",
     "shell.execute_reply.started": "2025-08-14T02:00:39.630687Z"
    },
    "executionRoleArn": "arn:aws:iam::554739427960:role/service-role/AmazonEMRStudio_RuntimeRole_1753773742344",
    "tags": []
   },
   "source": [
    "#### Імпорт бібліотек"
   ]
  },
  {
   "cell_type": "code",
   "execution_count": 1,
   "id": "f28ee3d0-26a8-4bcb-8482-677b2783be78",
   "metadata": {
    "execution": {
     "iopub.execute_input": "2025-08-14T02:38:33.705049Z",
     "iopub.status.busy": "2025-08-14T02:38:33.704794Z",
     "iopub.status.idle": "2025-08-14T02:38:46.954386Z",
     "shell.execute_reply": "2025-08-14T02:38:46.953960Z",
     "shell.execute_reply.started": "2025-08-14T02:38:33.705030Z"
    },
    "executionRoleArn": "arn:aws:iam::554739427960:role/service-role/AmazonEMRStudio_RuntimeRole_1753773742344",
    "tags": []
   },
   "outputs": [
    {
     "data": {
      "application/vnd.jupyter.widget-view+json": {
       "model_id": "3b7bf4887ec447e5abe9396f76688035",
       "version_major": 2,
       "version_minor": 0
      },
      "text/plain": [
       "VBox()"
      ]
     },
     "metadata": {},
     "output_type": "display_data"
    },
    {
     "name": "stdout",
     "output_type": "stream",
     "text": [
      "Starting Spark application\n"
     ]
    },
    {
     "data": {
      "text/html": [
       "<table>\n",
       "    <tr><th>ID</th><th>Kind</th><th>State</th><th>Spark UI</th><th>Driver log</th><th>User</th><th>Current session?</th></tr><tr><td>24</td><td>pyspark</td><td>idle</td><td><a target=\"_blank\" href=\"https://spark-live-ui.emr-serverless.amazonaws.com\" class=\"emr-proxy-link\" emr-runtime=\"emr-serverless\" emr-resource=\"00fuq06c2gb1rh1e\" application-id=\"00fudgcnskgkto1d\">Link</a></td><td></td><td>None</td><td>✔</td></tr></table>"
      ],
      "text/plain": [
       "<IPython.core.display.HTML object>"
      ]
     },
     "metadata": {},
     "output_type": "display_data"
    },
    {
     "data": {
      "application/vnd.jupyter.widget-view+json": {
       "model_id": "",
       "version_major": 2,
       "version_minor": 0
      },
      "text/plain": [
       "FloatProgress(value=0.0, bar_style='info', description='Progress:', layout=Layout(height='25px', width='50%'),…"
      ]
     },
     "metadata": {},
     "output_type": "display_data"
    },
    {
     "name": "stdout",
     "output_type": "stream",
     "text": [
      "SparkSession available as 'spark'.\n"
     ]
    },
    {
     "data": {
      "application/vnd.jupyter.widget-view+json": {
       "model_id": "",
       "version_major": 2,
       "version_minor": 0
      },
      "text/plain": [
       "FloatProgress(value=0.0, bar_style='info', description='Progress:', layout=Layout(height='25px', width='50%'),…"
      ]
     },
     "metadata": {},
     "output_type": "display_data"
    }
   ],
   "source": [
    "from pyspark.sql import SparkSession\n",
    "from pyspark.sql import functions as F\n",
    "from pyspark.sql.types import IntegerType, StringType, DoubleType, TimestampType \n",
    "from datetime import date\n",
    "import boto3 \n"
   ]
  },
  {
   "cell_type": "markdown",
   "id": "08301e9d-37d6-4082-b7fd-1eabc1e9d64a",
   "metadata": {},
   "source": [
    "#### Змінні:"
   ]
  },
  {
   "cell_type": "code",
   "execution_count": 2,
   "id": "695cb537-4600-4e2e-b4c8-c549ccdf92a3",
   "metadata": {
    "execution": {
     "iopub.execute_input": "2025-08-14T02:38:46.956746Z",
     "iopub.status.busy": "2025-08-14T02:38:46.956401Z",
     "iopub.status.idle": "2025-08-14T02:38:48.336590Z",
     "shell.execute_reply": "2025-08-14T02:38:48.336188Z",
     "shell.execute_reply.started": "2025-08-14T02:38:46.956728Z"
    },
    "executionRoleArn": "arn:aws:iam::554739427960:role/service-role/AmazonEMRStudio_RuntimeRole_1753773742344",
    "tags": []
   },
   "outputs": [
    {
     "data": {
      "application/vnd.jupyter.widget-view+json": {
       "model_id": "24733d308b5a4648958a6abf1e434828",
       "version_major": 2,
       "version_minor": 0
      },
      "text/plain": [
       "VBox()"
      ]
     },
     "metadata": {},
     "output_type": "display_data"
    },
    {
     "data": {
      "application/vnd.jupyter.widget-view+json": {
       "model_id": "",
       "version_major": 2,
       "version_minor": 0
      },
      "text/plain": [
       "FloatProgress(value=0.0, bar_style='info', description='Progress:', layout=Layout(height='25px', width='50%'),…"
      ]
     },
     "metadata": {},
     "output_type": "display_data"
    }
   ],
   "source": [
    "# Paths to data\n",
    "path_yellow = \"s3://robot-dreams-source-data/home-work-1/nyc_taxi/yellow/\"\n",
    "path_green = \"s3://robot-dreams-source-data/home-work-1/nyc_taxi/green/\"\n",
    "path_zone_lookup = \"s3://robot-dreams-source-data/home-work-1/nyc_taxi/taxi_zone_lookup.csv\" \n",
    "base_out = \"s3://rsherstiak-emr-studio/homework-1\"\n",
    "zones_csv = \"s3://robot-dreams-source-data/home-work-1/nyc_taxi/taxi_zone_lookup.csv\"\n",
    "date_str = date.today().isoformat()  # YYYY-MM-DD\n"
   ]
  },
  {
   "cell_type": "markdown",
   "id": "c3ea9833-1053-4425-9968-61e50d40663d",
   "metadata": {},
   "source": [
    "## Завдання 2: Імпорт, уніфікація та об’єднання"
   ]
  },
  {
   "cell_type": "markdown",
   "id": "f2b9e8d8-2a07-437e-be3d-1d085afadb0f",
   "metadata": {},
   "source": [
    "#### 1. Імпортувати дані жовтих та зелених поїздок:"
   ]
  },
  {
   "cell_type": "code",
   "execution_count": 3,
   "id": "8ee5417f-28b9-44ae-a5e8-b8e92b46e823",
   "metadata": {
    "execution": {
     "iopub.execute_input": "2025-08-14T02:38:48.337525Z",
     "iopub.status.busy": "2025-08-14T02:38:48.337335Z",
     "iopub.status.idle": "2025-08-14T02:40:15.072403Z",
     "shell.execute_reply": "2025-08-14T02:40:15.071956Z",
     "shell.execute_reply.started": "2025-08-14T02:38:48.337509Z"
    },
    "executionRoleArn": "arn:aws:iam::554739427960:role/service-role/AmazonEMRStudio_RuntimeRole_1753773742344",
    "tags": []
   },
   "outputs": [
    {
     "data": {
      "application/vnd.jupyter.widget-view+json": {
       "model_id": "5ea3ad902bac4236b451a5a87f9f6ab1",
       "version_major": 2,
       "version_minor": 0
      },
      "text/plain": [
       "VBox()"
      ]
     },
     "metadata": {},
     "output_type": "display_data"
    },
    {
     "data": {
      "application/vnd.jupyter.widget-view+json": {
       "model_id": "",
       "version_major": 2,
       "version_minor": 0
      },
      "text/plain": [
       "FloatProgress(value=0.0, bar_style='info', description='Progress:', layout=Layout(height='25px', width='50%'),…"
      ]
     },
     "metadata": {},
     "output_type": "display_data"
    },
    {
     "name": "stdout",
     "output_type": "stream",
     "text": [
      "/usr/local/lib/python3.7/site-packages/boto3/compat.py:82: PythonDeprecationWarning: Boto3 will no longer support Python 3.7 starting December 13, 2023. To continue receiving service updates, bug fixes, and security updates please upgrade to Python 3.8 or later. More information can be found here: https://aws.amazon.com/blogs/developer/python-support-policy-updates-for-aws-sdks-and-tools/\n",
      "  warnings.warn(warning, PythonDeprecationWarning)"
     ]
    }
   ],
   "source": [
    " \n",
    "# ----- read patches from bucket -----\n",
    " \n",
    "bucket_green  = path_green.split(\"/\")[2]\n",
    "prefix_green  = \"/\".join(path_green.split(\"/\")[3:])\n",
    "bucket_yellow = path_yellow.split(\"/\")[2]\n",
    "prefix_yellow = \"/\".join(path_yellow.split(\"/\")[3:])\n",
    "\n",
    "s3 = boto3.client(\"s3\")\n",
    "\n",
    "# GREEN per-file -> cast -> union\n",
    "resp_g = s3.list_objects_v2(Bucket=bucket_green, Prefix=prefix_green)\n",
    "keys_g = [o[\"Key\"] for o in resp_g.get(\"Contents\", []) if o[\"Key\"].endswith(\".parquet\")]\n",
    "\n",
    "green_all = None\n",
    "for k in sorted(keys_g):\n",
    "    df = spark.read.parquet(f\"s3://{bucket_green}/{k}\")\n",
    "    df_cast = df.select(\n",
    "        F.col(\"VendorID\").cast(\"long\").alias(\"VendorID\"),\n",
    "        F.col(\"lpep_pickup_datetime\").cast(\"timestamp_ntz\").alias(\"lpep_pickup_datetime\"),\n",
    "        F.col(\"lpep_dropoff_datetime\").cast(\"timestamp_ntz\").alias(\"lpep_dropoff_datetime\"),\n",
    "        F.col(\"store_and_fwd_flag\").cast(\"string\").alias(\"store_and_fwd_flag\"),\n",
    "        F.col(\"RatecodeID\").cast(\"double\").alias(\"RatecodeID\"),\n",
    "        F.col(\"PULocationID\").cast(\"long\").alias(\"PULocationID\"),\n",
    "        F.col(\"DOLocationID\").cast(\"long\").alias(\"DOLocationID\"),\n",
    "        F.col(\"passenger_count\").cast(\"double\").alias(\"passenger_count\"),\n",
    "        F.col(\"trip_distance\").cast(\"double\").alias(\"trip_distance\"),\n",
    "        F.col(\"fare_amount\").cast(\"double\").alias(\"fare_amount\"),\n",
    "        F.col(\"extra\").cast(\"double\").alias(\"extra\"),\n",
    "        F.col(\"mta_tax\").cast(\"double\").alias(\"mta_tax\"),\n",
    "        F.col(\"tip_amount\").cast(\"double\").alias(\"tip_amount\"),\n",
    "        F.col(\"tolls_amount\").cast(\"double\").alias(\"tolls_amount\"),\n",
    "        F.col(\"ehail_fee\").cast(\"double\").alias(\"ehail_fee\"),\n",
    "        F.col(\"improvement_surcharge\").cast(\"double\").alias(\"improvement_surcharge\"),\n",
    "        F.col(\"total_amount\").cast(\"double\").alias(\"total_amount\"),\n",
    "        F.col(\"payment_type\").cast(\"double\").alias(\"payment_type\"),\n",
    "        F.col(\"trip_type\").cast(\"double\").alias(\"trip_type\"),\n",
    "        F.col(\"congestion_surcharge\").cast(\"double\").alias(\"congestion_surcharge\"),\n",
    "        F.lit(None).cast(\"double\").alias(\"airport_fee\")\n",
    "    )\n",
    "    green_all = df_cast if green_all is None else green_all.unionByName(df_cast, allowMissingColumns=True)\n",
    "\n",
    "# YELLOW per-file -> cast -> union\n",
    "resp_y = s3.list_objects_v2(Bucket=bucket_yellow, Prefix=prefix_yellow)\n",
    "keys_y = [o[\"Key\"] for o in resp_y.get(\"Contents\", []) if o[\"Key\"].endswith(\".parquet\")]\n",
    "\n",
    "yellow_all = None\n",
    "for k in sorted(keys_y):\n",
    "    df = spark.read.parquet(f\"s3://{bucket_yellow}/{k}\")\n",
    "    df_cast = df.select(\n",
    "        F.col(\"VendorID\").cast(\"long\").alias(\"VendorID\"),\n",
    "        F.col(\"tpep_pickup_datetime\").cast(\"timestamp_ntz\").alias(\"tpep_pickup_datetime\"),\n",
    "        F.col(\"tpep_dropoff_datetime\").cast(\"timestamp_ntz\").alias(\"tpep_dropoff_datetime\"),\n",
    "        F.col(\"passenger_count\").cast(\"double\").alias(\"passenger_count\"),\n",
    "        F.col(\"trip_distance\").cast(\"double\").alias(\"trip_distance\"),\n",
    "        F.col(\"RatecodeID\").cast(\"double\").alias(\"RatecodeID\"),\n",
    "        F.col(\"store_and_fwd_flag\").cast(\"string\").alias(\"store_and_fwd_flag\"),\n",
    "        F.col(\"PULocationID\").cast(\"long\").alias(\"PULocationID\"),\n",
    "        F.col(\"DOLocationID\").cast(\"long\").alias(\"DOLocationID\"),\n",
    "        F.col(\"payment_type\").cast(\"double\").alias(\"payment_type\"),\n",
    "        F.col(\"fare_amount\").cast(\"double\").alias(\"fare_amount\"),\n",
    "        F.col(\"extra\").cast(\"double\").alias(\"extra\"),\n",
    "        F.col(\"mta_tax\").cast(\"double\").alias(\"mta_tax\"),\n",
    "        F.col(\"tip_amount\").cast(\"double\").alias(\"tip_amount\"),\n",
    "        F.col(\"tolls_amount\").cast(\"double\").alias(\"tolls_amount\"),\n",
    "        F.col(\"improvement_surcharge\").cast(\"double\").alias(\"improvement_surcharge\"),\n",
    "        F.col(\"total_amount\").cast(\"double\").alias(\"total_amount\"),\n",
    "        F.col(\"congestion_surcharge\").cast(\"double\").alias(\"congestion_surcharge\"),\n",
    "        F.col(\"airport_fee\").cast(\"double\").alias(\"airport_fee\"),\n",
    "        F.lit(None).cast(\"double\").alias(\"ehail_fee\"),\n",
    "        F.lit(None).cast(\"double\").alias(\"trip_type\")\n",
    "    )\n",
    "    yellow_all = df_cast if yellow_all is None else yellow_all.unionByName(df_cast, allowMissingColumns=True) "
   ]
  },
  {
   "cell_type": "markdown",
   "id": "54ce0738-1afd-4302-841a-0a8f35b43fab",
   "metadata": {},
   "source": [
    "#### 2. Уніфікувати схеми:"
   ]
  },
  {
   "cell_type": "code",
   "execution_count": 4,
   "id": "94f49763-3f75-4a6b-8878-f89c792a7ee0",
   "metadata": {
    "execution": {
     "iopub.execute_input": "2025-08-14T02:40:15.073617Z",
     "iopub.status.busy": "2025-08-14T02:40:15.073309Z",
     "iopub.status.idle": "2025-08-14T02:40:15.407566Z",
     "shell.execute_reply": "2025-08-14T02:40:15.407173Z",
     "shell.execute_reply.started": "2025-08-14T02:40:15.073599Z"
    },
    "executionRoleArn": "arn:aws:iam::554739427960:role/service-role/AmazonEMRStudio_RuntimeRole_1753773742344",
    "tags": []
   },
   "outputs": [
    {
     "data": {
      "application/vnd.jupyter.widget-view+json": {
       "model_id": "90bdb7b3efb0406fb41eacfdf1e56edc",
       "version_major": 2,
       "version_minor": 0
      },
      "text/plain": [
       "VBox()"
      ]
     },
     "metadata": {},
     "output_type": "display_data"
    },
    {
     "data": {
      "application/vnd.jupyter.widget-view+json": {
       "model_id": "",
       "version_major": 2,
       "version_minor": 0
      },
      "text/plain": [
       "FloatProgress(value=0.0, bar_style='info', description='Progress:', layout=Layout(height='25px', width='50%'),…"
      ]
     },
     "metadata": {},
     "output_type": "display_data"
    }
   ],
   "source": [
    "# ===== GREEN -> aligned schema via plain select =====\n",
    "green_ready = green_all.select(\n",
    "        # ids\n",
    "        F.col(\"VendorID\").cast(\"long\").alias(\"VendorID\"),\n",
    "        # datetimes -> unified names\n",
    "        F.col(\"lpep_pickup_datetime\").cast(\"timestamp_ntz\").alias(\"pickup_datetime\"),\n",
    "        F.col(\"lpep_dropoff_datetime\").cast(\"timestamp_ntz\").alias(\"dropoff_datetime\"),\n",
    "        # measures\n",
    "        F.col(\"passenger_count\").cast(\"double\").alias(\"passenger_count\"),\n",
    "        F.col(\"trip_distance\").cast(\"double\").alias(\"trip_distance\"),\n",
    "        F.col(\"RatecodeID\").cast(\"double\").alias(\"RatecodeID\"),\n",
    "        F.col(\"store_and_fwd_flag\").cast(\"string\").alias(\"store_and_fwd_flag\"),\n",
    "        F.col(\"PULocationID\").cast(\"long\").alias(\"PULocationID\"),\n",
    "        F.col(\"DOLocationID\").cast(\"long\").alias(\"DOLocationID\"),\n",
    "        F.col(\"payment_type\").cast(\"double\").alias(\"payment_type\"),\n",
    "        F.col(\"fare_amount\").cast(\"double\").alias(\"fare_amount\"),\n",
    "        F.col(\"extra\").cast(\"double\").alias(\"extra\"),\n",
    "        F.col(\"mta_tax\").cast(\"double\").alias(\"mta_tax\"),\n",
    "        F.col(\"tip_amount\").cast(\"double\").alias(\"tip_amount\"),\n",
    "        F.col(\"tolls_amount\").cast(\"double\").alias(\"tolls_amount\"),\n",
    "        F.col(\"improvement_surcharge\").cast(\"double\").alias(\"improvement_surcharge\"),\n",
    "        F.col(\"total_amount\").cast(\"double\").alias(\"total_amount\"),\n",
    "        F.col(\"congestion_surcharge\").cast(\"double\").alias(\"congestion_surcharge\"),\n",
    "        # fields missing in green -> nulls with correct types\n",
    "        F.lit(None).cast(\"double\").alias(\"airport_fee\"),\n",
    "        # green-only fields kept\n",
    "        F.col(\"ehail_fee\").cast(\"double\").alias(\"ehail_fee\"),\n",
    "        F.col(\"trip_type\").cast(\"double\").alias(\"trip_type\"),\n",
    "        # optional marker\n",
    "        F.lit(\"green\").alias(\"service_type\")\n",
    ").withColumn(\"taxi_type\", F.lit(\"green\"))\n",
    "\n",
    "# ===== YELLOW -> aligned schema via plain select =====\n",
    "yellow_ready = yellow_all.select(\n",
    "        # ids\n",
    "        F.col(\"VendorID\").cast(\"long\").alias(\"VendorID\"),\n",
    "        # datetimes -> unified names\n",
    "        F.col(\"tpep_pickup_datetime\").cast(\"timestamp_ntz\").alias(\"pickup_datetime\"),\n",
    "        F.col(\"tpep_dropoff_datetime\").cast(\"timestamp_ntz\").alias(\"dropoff_datetime\"),\n",
    "        # measures\n",
    "        F.col(\"passenger_count\").cast(\"double\").alias(\"passenger_count\"),\n",
    "        F.col(\"trip_distance\").cast(\"double\").alias(\"trip_distance\"),\n",
    "        F.col(\"RatecodeID\").cast(\"double\").alias(\"RatecodeID\"),\n",
    "        F.col(\"store_and_fwd_flag\").cast(\"string\").alias(\"store_and_fwd_flag\"),\n",
    "        F.col(\"PULocationID\").cast(\"long\").alias(\"PULocationID\"),\n",
    "        F.col(\"DOLocationID\").cast(\"long\").alias(\"DOLocationID\"),\n",
    "        F.col(\"payment_type\").cast(\"double\").alias(\"payment_type\"),\n",
    "        F.col(\"fare_amount\").cast(\"double\").alias(\"fare_amount\"),\n",
    "        F.col(\"extra\").cast(\"double\").alias(\"extra\"),\n",
    "        F.col(\"mta_tax\").cast(\"double\").alias(\"mta_tax\"),\n",
    "        F.col(\"tip_amount\").cast(\"double\").alias(\"tip_amount\"),\n",
    "        F.col(\"tolls_amount\").cast(\"double\").alias(\"tolls_amount\"),\n",
    "        F.col(\"improvement_surcharge\").cast(\"double\").alias(\"improvement_surcharge\"),\n",
    "        F.col(\"total_amount\").cast(\"double\").alias(\"total_amount\"),\n",
    "        F.col(\"congestion_surcharge\").cast(\"double\").alias(\"congestion_surcharge\"),\n",
    "        # yellow field present\n",
    "        F.col(\"airport_fee\").cast(\"double\").alias(\"airport_fee\"),\n",
    "        # fields missing in yellow -> nulls with correct types\n",
    "        F.lit(None).cast(\"double\").alias(\"ehail_fee\"),\n",
    "        F.lit(None).cast(\"double\").alias(\"trip_type\"),\n",
    "        # optional marker\n",
    "        F.lit(\"yellow\").alias(\"service_type\")\n",
    ").withColumn(\"taxi_type\", F.lit(\"yellow\"))"
   ]
  },
  {
   "cell_type": "markdown",
   "id": "2cdbcb7f-2e19-4e64-9910-5eb2a271034f",
   "metadata": {},
   "source": [
    "#### 3. Об’єднати дані в один датафрейм raw_trips_df."
   ]
  },
  {
   "cell_type": "code",
   "execution_count": 5,
   "id": "75b97719-3b46-4011-b5cd-a26ea6b85ea2",
   "metadata": {
    "execution": {
     "iopub.execute_input": "2025-08-14T02:40:15.408416Z",
     "iopub.status.busy": "2025-08-14T02:40:15.408222Z",
     "iopub.status.idle": "2025-08-14T02:40:28.943082Z",
     "shell.execute_reply": "2025-08-14T02:40:28.942689Z",
     "shell.execute_reply.started": "2025-08-14T02:40:15.408400Z"
    },
    "executionRoleArn": "arn:aws:iam::554739427960:role/service-role/AmazonEMRStudio_RuntimeRole_1753773742344",
    "tags": []
   },
   "outputs": [
    {
     "data": {
      "application/vnd.jupyter.widget-view+json": {
       "model_id": "d7e68c57179f463a86f514a3b6be5294",
       "version_major": 2,
       "version_minor": 0
      },
      "text/plain": [
       "VBox()"
      ]
     },
     "metadata": {},
     "output_type": "display_data"
    },
    {
     "data": {
      "application/vnd.jupyter.widget-view+json": {
       "model_id": "",
       "version_major": 2,
       "version_minor": 0
      },
      "text/plain": [
       "FloatProgress(value=0.0, bar_style='info', description='Progress:', layout=Layout(height='25px', width='50%'),…"
      ]
     },
     "metadata": {},
     "output_type": "display_data"
    },
    {
     "name": "stdout",
     "output_type": "stream",
     "text": [
      "+--------+-------------------+-------------------+---------------+-------------+----------+------------------+------------+------------+------------+-----------+-----+-------+----------+------------+---------------------+------------+--------------------+-----------+---------+---------+------------+---------+\n",
      "|VendorID|pickup_datetime    |dropoff_datetime   |passenger_count|trip_distance|RatecodeID|store_and_fwd_flag|PULocationID|DOLocationID|payment_type|fare_amount|extra|mta_tax|tip_amount|tolls_amount|improvement_surcharge|total_amount|congestion_surcharge|airport_fee|ehail_fee|trip_type|service_type|taxi_type|\n",
      "+--------+-------------------+-------------------+---------------+-------------+----------+------------------+------------+------------+------------+-----------+-----+-------+----------+------------+---------------------+------------+--------------------+-----------+---------+---------+------------+---------+\n",
      "|2       |2014-01-01 00:17:26|2014-01-01 00:37:11|1.0            |2.28         |1.0       |N                 |17          |225         |2.0         |13.5       |0.5  |0.5    |0.0       |0.0         |null                 |14.5        |null                |null       |null     |null     |green       |green    |\n",
      "|1       |2014-01-01 00:29:12|2014-01-01 00:37:43|1.0            |2.1          |1.0       |N                 |127         |241         |2.0         |9.0        |0.0  |0.5    |0.0       |0.0         |null                 |9.5         |null                |null       |null     |null     |green       |green    |\n",
      "|2       |2014-01-01 00:31:35|2014-01-01 00:44:09|1.0            |4.72         |1.0       |N                 |166         |243         |1.0         |15.5       |0.5  |0.5    |4.0       |0.0         |null                 |20.5        |null                |null       |null     |null     |green       |green    |\n",
      "+--------+-------------------+-------------------+---------------+-------------+----------+------------------+------------+------------+------------+-----------+-----+-------+----------+------------+---------------------+------------+--------------------+-----------+---------+---------+------------+---------+\n",
      "only showing top 3 rows"
     ]
    }
   ],
   "source": [
    "# Union into one final DataFrame\n",
    "raw_trips_df  = green_ready.unionByName(yellow_ready, allowMissingColumns=True)\n",
    "\n",
    "# Optionally check schema and row count\n",
    "raw_trips_df.show(3, truncate=False)\n"
   ]
  },
  {
   "cell_type": "markdown",
   "id": "9c5fcbe9-7077-4371-be9d-e28fbf7b6a51",
   "metadata": {},
   "source": [
    "#### 4. Виконати фільтрацію аномальних записів: * Вилучити поїздки з відстанню < 0.1 км, тарифом < $2, тривалістю < 1 хв.\n",
    "  "
   ]
  },
  {
   "cell_type": "code",
   "execution_count": 6,
   "id": "666d1a6c-42b8-4c83-9695-28622e0c6b18",
   "metadata": {
    "execution": {
     "iopub.execute_input": "2025-08-14T02:40:28.943888Z",
     "iopub.status.busy": "2025-08-14T02:40:28.943718Z",
     "iopub.status.idle": "2025-08-14T02:40:29.273492Z",
     "shell.execute_reply": "2025-08-14T02:40:29.273047Z",
     "shell.execute_reply.started": "2025-08-14T02:40:28.943871Z"
    },
    "executionRoleArn": "arn:aws:iam::554739427960:role/service-role/AmazonEMRStudio_RuntimeRole_1753773742344",
    "tags": []
   },
   "outputs": [
    {
     "data": {
      "application/vnd.jupyter.widget-view+json": {
       "model_id": "059160196b8043d2986b461ccee7dbff",
       "version_major": 2,
       "version_minor": 0
      },
      "text/plain": [
       "VBox()"
      ]
     },
     "metadata": {},
     "output_type": "display_data"
    },
    {
     "data": {
      "application/vnd.jupyter.widget-view+json": {
       "model_id": "",
       "version_major": 2,
       "version_minor": 0
      },
      "text/plain": [
       "FloatProgress(value=0.0, bar_style='info', description='Progress:', layout=Layout(height='25px', width='50%'),…"
      ]
     },
     "metadata": {},
     "output_type": "display_data"
    }
   ],
   "source": [
    "filtered_trips_df = raw_trips_df.filter(\n",
    "    (F.col(\"trip_distance\") >= 0.1) &\n",
    "    (F.col(\"total_amount\")  >= 2.0) &\n",
    "    (\n",
    "        (\n",
    "            F.col(\"dropoff_datetime\").cast(\"timestamp\").cast(\"long\")\n",
    "            - F.col(\"pickup_datetime\").cast(\"timestamp\").cast(\"long\")\n",
    "        ) / 60.0 >= 1.0\n",
    "    )\n",
    ")"
   ]
  },
  {
   "cell_type": "markdown",
   "id": "80d95f54-59ae-46a6-8242-d0689ad1cc67",
   "metadata": {},
   "source": [
    "#### 5. Додати наступні колонки:   * pickup_hour   * pickup_day_of_week   * duration_min "
   ]
  },
  {
   "cell_type": "code",
   "execution_count": 7,
   "id": "97843e75-fd50-4b0c-9a85-5d63e1045dd4",
   "metadata": {
    "execution": {
     "iopub.execute_input": "2025-08-14T02:40:29.274423Z",
     "iopub.status.busy": "2025-08-14T02:40:29.274189Z",
     "iopub.status.idle": "2025-08-14T02:40:29.595764Z",
     "shell.execute_reply": "2025-08-14T02:40:29.595355Z",
     "shell.execute_reply.started": "2025-08-14T02:40:29.274405Z"
    },
    "executionRoleArn": "arn:aws:iam::554739427960:role/service-role/AmazonEMRStudio_RuntimeRole_1753773742344",
    "tags": []
   },
   "outputs": [
    {
     "data": {
      "application/vnd.jupyter.widget-view+json": {
       "model_id": "23b464bc2b4f487f89aaa503ad3aefc9",
       "version_major": 2,
       "version_minor": 0
      },
      "text/plain": [
       "VBox()"
      ]
     },
     "metadata": {},
     "output_type": "display_data"
    },
    {
     "data": {
      "application/vnd.jupyter.widget-view+json": {
       "model_id": "",
       "version_major": 2,
       "version_minor": 0
      },
      "text/plain": [
       "FloatProgress(value=0.0, bar_style='info', description='Progress:', layout=Layout(height='25px', width='50%'),…"
      ]
     },
     "metadata": {},
     "output_type": "display_data"
    }
   ],
   "source": [
    "featured_trips_df = filtered_trips_df.select(\n",
    "    \"*\",\n",
    "    F.hour(\"pickup_datetime\").alias(\"pickup_hour\"),\n",
    "    F.date_format(\"pickup_datetime\", \"EEEE\").alias(\"pickup_day_of_week\"),\n",
    "    (\n",
    "        (\n",
    "            F.col(\"dropoff_datetime\").cast(\"timestamp\").cast(\"long\")\n",
    "            - F.col(\"pickup_datetime\").cast(\"timestamp\").cast(\"long\")\n",
    "        ).cast(\"double\") / F.lit(60.0)\n",
    "    ).alias(\"duration_min\")\n",
    ")"
   ]
  },
  {
   "cell_type": "markdown",
   "id": "783a51c7-ae99-471f-bd90-9cc42f895e17",
   "metadata": {},
   "source": [
    "#### 6. Виконати JOIN з taxi_zone_lookup.csv, додавши поля pickup_zone, dropoff_zone."
   ]
  },
  {
   "cell_type": "code",
   "execution_count": 8,
   "id": "2e410d2d-eec1-4837-8e7e-e4fd4a810765",
   "metadata": {
    "execution": {
     "iopub.execute_input": "2025-08-14T02:40:29.596621Z",
     "iopub.status.busy": "2025-08-14T02:40:29.596440Z",
     "iopub.status.idle": "2025-08-14T02:40:30.958517Z",
     "shell.execute_reply": "2025-08-14T02:40:30.958074Z",
     "shell.execute_reply.started": "2025-08-14T02:40:29.596603Z"
    },
    "executionRoleArn": "arn:aws:iam::554739427960:role/service-role/AmazonEMRStudio_RuntimeRole_1753773742344",
    "tags": []
   },
   "outputs": [
    {
     "data": {
      "application/vnd.jupyter.widget-view+json": {
       "model_id": "87e3bbe2ce45471caf7822748a8210c4",
       "version_major": 2,
       "version_minor": 0
      },
      "text/plain": [
       "VBox()"
      ]
     },
     "metadata": {},
     "output_type": "display_data"
    },
    {
     "data": {
      "application/vnd.jupyter.widget-view+json": {
       "model_id": "",
       "version_major": 2,
       "version_minor": 0
      },
      "text/plain": [
       "FloatProgress(value=0.0, bar_style='info', description='Progress:', layout=Layout(height='25px', width='50%'),…"
      ]
     },
     "metadata": {},
     "output_type": "display_data"
    }
   ],
   "source": [
    "# Read zones\n",
    "zones_df = (spark.read\n",
    "    .option(\"header\", \"true\")\n",
    "    .csv(zones_csv)\n",
    "    .select(\n",
    "        F.col(\"LocationID\").cast(\"int\").alias(\"LocationID\"),\n",
    "        F.col(\"Zone\").alias(\"Zone\")\n",
    "    )\n",
    ")\n",
    "\n",
    "# Join zones -> final RAF-TRIPS-DF\n",
    "raf_trips_df = (featured_trips_df\n",
    "    .join(\n",
    "        zones_df.select(\n",
    "            F.col(\"LocationID\").alias(\"PULocationID\"),\n",
    "            F.col(\"Zone\").alias(\"pickup_zone\")\n",
    "        ),\n",
    "        on=\"PULocationID\", how=\"left\"\n",
    "    )\n",
    "    .join(\n",
    "        zones_df.select(\n",
    "            F.col(\"LocationID\").alias(\"DOLocationID\"),\n",
    "            F.col(\"Zone\").alias(\"dropoff_zone\")\n",
    "        ),\n",
    "        on=\"DOLocationID\", how=\"left\"\n",
    "    )\n",
    ")\n",
    "\n"
   ]
  },
  {
   "cell_type": "markdown",
   "id": "d3273086-67e9-4fcb-ae8a-ed1a7f9dbb74",
   "metadata": {},
   "source": [
    "## Завдання 3: Створення та агрегація фінального датафрейму zone_summary"
   ]
  },
  {
   "cell_type": "markdown",
   "id": "66ed94b3-ac60-4190-985a-5257b599ee6f",
   "metadata": {},
   "source": [
    "####  1. Створити датафрейм zone_summary"
   ]
  },
  {
   "cell_type": "code",
   "execution_count": 9,
   "id": "8cf45082-1121-4b95-83e6-4368d3ca27d2",
   "metadata": {
    "execution": {
     "iopub.execute_input": "2025-08-14T02:40:30.959445Z",
     "iopub.status.busy": "2025-08-14T02:40:30.959234Z",
     "iopub.status.idle": "2025-08-14T02:40:31.287187Z",
     "shell.execute_reply": "2025-08-14T02:40:31.286737Z",
     "shell.execute_reply.started": "2025-08-14T02:40:30.959428Z"
    },
    "executionRoleArn": "arn:aws:iam::554739427960:role/service-role/AmazonEMRStudio_RuntimeRole_1753773742344",
    "tags": []
   },
   "outputs": [
    {
     "data": {
      "application/vnd.jupyter.widget-view+json": {
       "model_id": "4ca38346b0af41f088505c7d298e49dd",
       "version_major": 2,
       "version_minor": 0
      },
      "text/plain": [
       "VBox()"
      ]
     },
     "metadata": {},
     "output_type": "display_data"
    },
    {
     "data": {
      "application/vnd.jupyter.widget-view+json": {
       "model_id": "",
       "version_major": 2,
       "version_minor": 0
      },
      "text/plain": [
       "FloatProgress(value=0.0, bar_style='info', description='Progress:', layout=Layout(height='25px', width='50%'),…"
      ]
     },
     "metadata": {},
     "output_type": "display_data"
    }
   ],
   "source": [
    "#   * pickup_zone — зона посадки\n",
    "#   * total_trips — загальна кількість поїздок\n",
    "#   * avg_trip_distance — середня відстань поїздки\n",
    "#   * avg_total_amount — середній тариф поїздки\n",
    "#   * avg_tip_amount — середня сума чайових\n",
    "#   * yellow_share — частка жовтих поїздок у зоні\n",
    "#   * green_share — частка зелених поїздок у зоні\n",
    "#   * max_trip_distance — максимальна відстань поїздки\n",
    "#   * min_tip_amount — мінімальна сума чайових \n",
    "\n",
    "# Aggregates\n",
    "total_cnt  = F.count(F.lit(1))\n",
    "yellow_cnt = F.sum(F.when(F.col(\"taxi_type\") == \"yellow\", 1).otherwise(0))\n",
    "green_cnt  = F.sum(F.when(F.col(\"taxi_type\") == \"green\",  1).otherwise(0))\n",
    "\n",
    "zone_summary = (raf_trips_df.groupBy(\"pickup_zone\")\n",
    "    .agg(\n",
    "        total_cnt.alias(\"total_trips\"),\n",
    "        F.avg(\"trip_distance\").alias(\"avg_trip_distance\"),\n",
    "        F.avg(\"total_amount\").alias(\"avg_total_amount\"),\n",
    "        F.avg(\"tip_amount\").alias(\"avg_tip_amount\"),\n",
    "        (yellow_cnt/total_cnt).alias(\"yellow_share\"),\n",
    "        (green_cnt/total_cnt).alias(\"green_share\"),\n",
    "        F.max(\"trip_distance\").alias(\"max_trip_distance\"),\n",
    "        F.min(\"tip_amount\").alias(\"min_tip_amount\")\n",
    "    )\n",
    ")"
   ]
  },
  {
   "cell_type": "code",
   "execution_count": 10,
   "id": "cfdc40d7-8ff1-48a2-b353-acf1af621343",
   "metadata": {
    "execution": {
     "iopub.execute_input": "2025-08-14T02:40:31.288061Z",
     "iopub.status.busy": "2025-08-14T02:40:31.287871Z",
     "iopub.status.idle": "2025-08-14T02:41:39.362471Z",
     "shell.execute_reply": "2025-08-14T02:41:39.362006Z",
     "shell.execute_reply.started": "2025-08-14T02:40:31.288043Z"
    },
    "executionRoleArn": "arn:aws:iam::554739427960:role/service-role/AmazonEMRStudio_RuntimeRole_1753773742344",
    "tags": []
   },
   "outputs": [
    {
     "data": {
      "application/vnd.jupyter.widget-view+json": {
       "model_id": "938fa21ddb4343f0a0475a73761a7a22",
       "version_major": 2,
       "version_minor": 0
      },
      "text/plain": [
       "VBox()"
      ]
     },
     "metadata": {},
     "output_type": "display_data"
    },
    {
     "data": {
      "application/vnd.jupyter.widget-view+json": {
       "model_id": "",
       "version_major": 2,
       "version_minor": 0
      },
      "text/plain": [
       "FloatProgress(value=0.0, bar_style='info', description='Progress:', layout=Layout(height='25px', width='50%'),…"
      ]
     },
     "metadata": {},
     "output_type": "display_data"
    },
    {
     "name": "stdout",
     "output_type": "stream",
     "text": [
      "+--------------+-----------+------------------+------------------+------------------+-------------------+------------------+-----------------+--------------+\n",
      "|pickup_zone   |total_trips|avg_trip_distance |avg_total_amount  |avg_tip_amount    |yellow_share       |green_share       |max_trip_distance|min_tip_amount|\n",
      "+--------------+-----------+------------------+------------------+------------------+-------------------+------------------+-----------------+--------------+\n",
      "|Westerleigh   |1254       |8.929792663476873 |39.18330143540672 |2.514744816586922 |0.48564593301435405|0.5143540669856459|124.4            |0.0           |\n",
      "|Pelham Parkway|97611      |16.476772802245637|18.982729405497224|0.5824950056858349|0.10123858991302209|0.8987614100869779|221944.04        |0.0           |\n",
      "|Rego Park     |702740     |4.957281483905853 |16.124224734610422|0.799293878248    |0.09993454193585109|0.900065458064149 |185845.97        |0.0           |\n",
      "+--------------+-----------+------------------+------------------+------------------+-------------------+------------------+-----------------+--------------+\n",
      "only showing top 3 rows"
     ]
    }
   ],
   "source": [
    "zone_summary.show(3, truncate=False)"
   ]
  },
  {
   "cell_type": "markdown",
   "id": "bed77a68-7b2b-46e0-8c20-387d94974038",
   "metadata": {},
   "source": [
    "#### 2. Зберегти агрегаційні результати:"
   ]
  },
  {
   "cell_type": "code",
   "execution_count": 11,
   "id": "1be0a7b5-13d7-4c3c-b791-af5a9c7adf92",
   "metadata": {
    "execution": {
     "iopub.execute_input": "2025-08-14T02:41:39.363409Z",
     "iopub.status.busy": "2025-08-14T02:41:39.363191Z",
     "iopub.status.idle": "2025-08-14T02:42:01.454583Z",
     "shell.execute_reply": "2025-08-14T02:42:01.454141Z",
     "shell.execute_reply.started": "2025-08-14T02:41:39.363391Z"
    },
    "executionRoleArn": "arn:aws:iam::554739427960:role/service-role/AmazonEMRStudio_RuntimeRole_1753773742344",
    "tags": []
   },
   "outputs": [
    {
     "data": {
      "application/vnd.jupyter.widget-view+json": {
       "model_id": "77205e6bbd7448eca92a3e8fda678ef7",
       "version_major": 2,
       "version_minor": 0
      },
      "text/plain": [
       "VBox()"
      ]
     },
     "metadata": {},
     "output_type": "display_data"
    },
    {
     "data": {
      "application/vnd.jupyter.widget-view+json": {
       "model_id": "",
       "version_major": 2,
       "version_minor": 0
      },
      "text/plain": [
       "FloatProgress(value=0.0, bar_style='info', description='Progress:', layout=Layout(height='25px', width='50%'),…"
      ]
     },
     "metadata": {},
     "output_type": "display_data"
    }
   ],
   "source": [
    "zone_summary_out = f\"{base_out}/results/zone_statistic/{date_str}/zone_statistic.parquet\"\n",
    "(zone_summary.coalesce(1).write.mode(\"overwrite\").parquet(zone_summary_out))"
   ]
  },
  {
   "cell_type": "markdown",
   "id": "7b28d266-e723-4dd6-8579-d67337add92a",
   "metadata": {},
   "source": [
    "## Завдання 4: Агрегація по днях тижня та зонах"
   ]
  },
  {
   "cell_type": "markdown",
   "id": "5d1d6cf2-d2aa-4287-bebe-ed3382904b15",
   "metadata": {},
   "source": [
    "#### 1. Підрахувати кількість поїздок за певний день тижня (наприклад, понеділок — Sunday, etc.)."
   ]
  },
  {
   "cell_type": "code",
   "execution_count": 12,
   "id": "28154e12-261c-4ef2-b26c-1290e7cc6b69",
   "metadata": {
    "execution": {
     "iopub.execute_input": "2025-08-14T02:42:01.455494Z",
     "iopub.status.busy": "2025-08-14T02:42:01.455279Z",
     "iopub.status.idle": "2025-08-14T02:42:01.774479Z",
     "shell.execute_reply": "2025-08-14T02:42:01.774016Z",
     "shell.execute_reply.started": "2025-08-14T02:42:01.455476Z"
    },
    "executionRoleArn": "arn:aws:iam::554739427960:role/service-role/AmazonEMRStudio_RuntimeRole_1753773742344",
    "tags": []
   },
   "outputs": [
    {
     "data": {
      "application/vnd.jupyter.widget-view+json": {
       "model_id": "51d8440d9e634ff18bc7387d19505ec1",
       "version_major": 2,
       "version_minor": 0
      },
      "text/plain": [
       "VBox()"
      ]
     },
     "metadata": {},
     "output_type": "display_data"
    },
    {
     "data": {
      "application/vnd.jupyter.widget-view+json": {
       "model_id": "",
       "version_major": 2,
       "version_minor": 0
      },
      "text/plain": [
       "FloatProgress(value=0.0, bar_style='info', description='Progress:', layout=Layout(height='25px', width='50%'),…"
      ]
     },
     "metadata": {},
     "output_type": "display_data"
    }
   ],
   "source": [
    "total_cnt = F.count(F.lit(1))\n",
    "high_cnt  = F.sum(F.when(F.col(\"total_amount\") > 30.0, 1).otherwise(0))\n",
    "\n",
    "zone_days_statstic = (\n",
    "    raf_trips_df\n",
    "    .groupBy(\"pickup_zone\", \"pickup_day_of_week\")  # weekday already prepared earlier\n",
    "    .agg(\n",
    "        total_cnt.alias(\"total_trips\"),\n",
    "        (high_cnt / total_cnt).alias(\"high_fare_share\")\n",
    "    )\n",
    ")"
   ]
  },
  {
   "cell_type": "markdown",
   "id": "6310634a-c34e-4627-8fd7-b72ad0df8bf8",
   "metadata": {},
   "source": [
    "#### 2. Розрахувати частку поїздок з тарифами більше $30 за кожною зоною (high_fare_share)."
   ]
  },
  {
   "cell_type": "code",
   "execution_count": 13,
   "id": "62688e37-9cac-4c3e-9bf3-866dbf2b6f7e",
   "metadata": {
    "execution": {
     "iopub.execute_input": "2025-08-14T02:42:01.775416Z",
     "iopub.status.busy": "2025-08-14T02:42:01.775197Z",
     "iopub.status.idle": "2025-08-14T02:42:21.375608Z",
     "shell.execute_reply": "2025-08-14T02:42:21.375144Z",
     "shell.execute_reply.started": "2025-08-14T02:42:01.775398Z"
    },
    "executionRoleArn": "arn:aws:iam::554739427960:role/service-role/AmazonEMRStudio_RuntimeRole_1753773742344",
    "tags": []
   },
   "outputs": [
    {
     "data": {
      "application/vnd.jupyter.widget-view+json": {
       "model_id": "aa58133d2a344a6998abdfa7dd042138",
       "version_major": 2,
       "version_minor": 0
      },
      "text/plain": [
       "VBox()"
      ]
     },
     "metadata": {},
     "output_type": "display_data"
    },
    {
     "data": {
      "application/vnd.jupyter.widget-view+json": {
       "model_id": "",
       "version_major": 2,
       "version_minor": 0
      },
      "text/plain": [
       "FloatProgress(value=0.0, bar_style='info', description='Progress:', layout=Layout(height='25px', width='50%'),…"
      ]
     },
     "metadata": {},
     "output_type": "display_data"
    },
    {
     "name": "stdout",
     "output_type": "stream",
     "text": [
      "+-------------------------+------------------+-----------+-------------------+\n",
      "|pickup_zone              |pickup_day_of_week|total_trips|high_fare_share    |\n",
      "+-------------------------+------------------+-----------+-------------------+\n",
      "|Stapleton                |Wednesday         |630        |0.3047619047619048 |\n",
      "|Astoria                  |Tuesday           |574342     |0.06358580775914002|\n",
      "|Bedford                  |Monday            |135201     |0.09459989201263304|\n",
      "|Murray Hill-Queens       |Monday            |3339       |0.40041928721174   |\n",
      "|Auburndale               |Friday            |2586       |0.3008507347254447 |\n",
      "|Glen Oaks                |Monday            |1714       |0.5694282380396732 |\n",
      "|Brooklyn Heights         |Tuesday           |357545     |0.1303919786320603 |\n",
      "|Forest Park/Highland Park|Wednesday         |776        |0.28994845360824745|\n",
      "|Bronx Park               |Wednesday         |3867       |0.23972071373157486|\n",
      "|Van Cortlandt Village    |Saturday          |18073      |0.12864493996569468|\n",
      "+-------------------------+------------------+-----------+-------------------+\n",
      "only showing top 10 rows"
     ]
    }
   ],
   "source": [
    "zone_days_statstic.show(10, truncate=False)"
   ]
  },
  {
   "cell_type": "markdown",
   "id": "a89b7c96-54eb-4bd1-b985-10e54703db22",
   "metadata": {},
   "source": [
    "#### 3. Зберегти файл в у S3: /your-bucket/results/zone_days_statstic/{date}/zone_days_statstic.parquet."
   ]
  },
  {
   "cell_type": "code",
   "execution_count": 14,
   "id": "311acbe6-c373-4693-9d0d-3575df98b081",
   "metadata": {
    "execution": {
     "iopub.execute_input": "2025-08-14T02:42:21.376568Z",
     "iopub.status.busy": "2025-08-14T02:42:21.376345Z",
     "iopub.status.idle": "2025-08-14T02:42:41.536257Z",
     "shell.execute_reply": "2025-08-14T02:42:41.535862Z",
     "shell.execute_reply.started": "2025-08-14T02:42:21.376550Z"
    },
    "executionRoleArn": "arn:aws:iam::554739427960:role/service-role/AmazonEMRStudio_RuntimeRole_1753773742344",
    "tags": []
   },
   "outputs": [
    {
     "data": {
      "application/vnd.jupyter.widget-view+json": {
       "model_id": "dbdb80024d8e4724941e0760dba9a086",
       "version_major": 2,
       "version_minor": 0
      },
      "text/plain": [
       "VBox()"
      ]
     },
     "metadata": {},
     "output_type": "display_data"
    },
    {
     "data": {
      "application/vnd.jupyter.widget-view+json": {
       "model_id": "",
       "version_major": 2,
       "version_minor": 0
      },
      "text/plain": [
       "FloatProgress(value=0.0, bar_style='info', description='Progress:', layout=Layout(height='25px', width='50%'),…"
      ]
     },
     "metadata": {},
     "output_type": "display_data"
    }
   ],
   "source": [
    "zone_days_out = f\"{base_out}/results/zone_days_statstic/{date_str}/zone_days_statstic.parquet\"\n",
    "\n",
    "(zone_days_statstic\n",
    " .coalesce(1)\n",
    " .write.mode(\"overwrite\")\n",
    " .parquet(zone_days_out))"
   ]
  },
  {
   "cell_type": "code",
   "execution_count": 15,
   "id": "9649461a-bf77-4e80-9b45-e3f1038d2e2f",
   "metadata": {
    "execution": {
     "iopub.execute_input": "2025-08-14T02:42:41.537087Z",
     "iopub.status.busy": "2025-08-14T02:42:41.536918Z",
     "iopub.status.idle": "2025-08-14T02:42:42.390529Z",
     "shell.execute_reply": "2025-08-14T02:42:42.390078Z",
     "shell.execute_reply.started": "2025-08-14T02:42:41.537071Z"
    },
    "executionRoleArn": "arn:aws:iam::554739427960:role/service-role/AmazonEMRStudio_RuntimeRole_1753773742344",
    "tags": []
   },
   "outputs": [
    {
     "data": {
      "application/vnd.jupyter.widget-view+json": {
       "model_id": "627972c3b2df43b987e97f34ec819385",
       "version_major": 2,
       "version_minor": 0
      },
      "text/plain": [
       "VBox()"
      ]
     },
     "metadata": {},
     "output_type": "display_data"
    },
    {
     "data": {
      "application/vnd.jupyter.widget-view+json": {
       "model_id": "",
       "version_major": 2,
       "version_minor": 0
      },
      "text/plain": [
       "FloatProgress(value=0.0, bar_style='info', description='Progress:', layout=Layout(height='25px', width='50%'),…"
      ]
     },
     "metadata": {},
     "output_type": "display_data"
    }
   ],
   "source": [
    "spark.catalog.clearCache()   # clear cached tables\n",
    "spark.stop()                 # stop SparkSession"
   ]
  }
 ],
 "metadata": {
  "kernelspec": {
   "display_name": "PySpark",
   "language": "python",
   "name": "spark_magic_pyspark"
  },
  "language_info": {
   "codemirror_mode": {
    "name": "python",
    "version": 3
   },
   "file_extension": ".py",
   "mimetype": "text/x-python",
   "name": "pyspark",
   "pygments_lexer": "python3"
  }
 },
 "nbformat": 4,
 "nbformat_minor": 5
}
